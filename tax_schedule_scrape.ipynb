{
 "cells": [
  {
   "cell_type": "code",
   "execution_count": null,
   "metadata": {},
   "outputs": [],
   "source": [
    "from selenium import webdriver\n",
    "from selenium.webdriver.chrome.options import Options\n",
    "from selenium.webdriver.chrome.service import Service\n",
    "from selenium.webdriver.common.by import By\n",
    "from selenium.webdriver.common.keys import Keys\n",
    "from selenium.webdriver.support import expected_conditions as EC\n",
    "from selenium.webdriver.support.ui import WebDriverWait\n",
    "from webdriver_manager.chrome import ChromeDriverManager\n",
    "\n",
    "import datetime\n",
    "import time\n",
    "import os\n"
   ]
  },
  {
   "cell_type": "code",
   "execution_count": null,
   "metadata": {},
   "outputs": [],
   "source": [
    "# chrome driver 획득\n",
    "options = Options()\n",
    "user_data = r\"C:\\Users\\USER\\AppData\\Local\\Google\\Chrome\\User Data\"\n",
    "options.add_argument(f\"user-data-dir={user_data}\")\n",
    "options.add_experimental_option('detach', True) # 브라우저 바로 닫힘 방지\n",
    "options.add_experimental_option('excludeSwitches', ['enable-logging']) # 불필요한 메시지 제거\n",
    "# options.add_argument('headless')\n",
    "options.add_argument('window-size=1920x1080')\n",
    "options.add_argument('disable-gpu')\n",
    "options.add_argument(r'user-agent=Mozilla/5.0 (Windows NT 10.0; Win64; x64) AppleWebKit/537.36 (KHTML, like Gecko) Chrome/106.0.0.0 Safari/537.36')\n",
    "options.add_argument(\"lang=ko_KR\")\n",
    "service = Service(ChromeDriverManager().install())\n",
    "\n",
    "\n"
   ]
  },
  {
   "cell_type": "code",
   "execution_count": null,
   "metadata": {},
   "outputs": [],
   "source": [
    "driver = webdriver.Chrome(service=service, options=options)\n",
    "URL = r\"https://nts.go.kr/nts/ad/taxSchdul/selectList.do?mi=135747&taxYear=2023&taxMonth=01\"\n",
    "driver.get(URL)\n",
    "print(\"접속한 사이트 주소: \" + driver.current_url)\n",
    "print(\"driver handles no: \" + str(len(driver.window_handles)))\n",
    "if len(driver.window_handles) > 1:\n",
    "    driver.switch_to.window(driver.window_handles[1])\n",
    "    driver.close()\n",
    "    time.sleep(1)\n",
    "    driver.switch_to.window(driver.window_handles[0])\n",
    "print()\n",
    "add_list = []\n",
    "for i in range(20):\n",
    "    search = driver.find_elements(By.XPATH, f\"/html/body/div[3]/div/div[1]/div[2]/form/div[2]/div[4]/table/tbody/tr[{i+1}]/td[5]/a/img\")\n",
    "    add_list.append(search)\n",
    "# search_test =driver.find_element(By.XPATH, r\"/html/body/div[3]/header/div[3]/div/div[2]/form/fieldset/input\")\n",
    "# search_test.send_keys(\"asdasd\")\n",
    "# print(add_list)\n",
    "# print(len(add_list))\n",
    "\n",
    "for i in add_list :\n",
    "    add_button = i\n",
    "    add_page = add_button[0].click()\n",
    "    time.sleep(3)\n",
    "    calander_check = driver.find_element(By.XPATH, r'/html/body/div[2]/div[1]/div[1]/div[2]/div[2]/div/div/div[1]/div[1]/div[1]/div[2]/div/div[1]/label/div[1]/div/input')\n",
    "    \n",
    "    calander_check.send_keys(\"asdasd\")\n",
    "    "
   ]
  },
  {
   "cell_type": "code",
   "execution_count": null,
   "metadata": {},
   "outputs": [],
   "source": [
    "driver = webdriver.Chrome(service=service, options=options)\n",
    "URL = r\"https://google.com\"\n",
    "driver.get(URL)\n",
    "search_box = driver.find_element(By.XPATH, f\"/html/body/div[1]/div[3]/form/div[1]/div[1]/div[1]/div/div[2]/input\")\n",
    "search_box.send_keys(\"casdasdsa\")"
   ]
  }
 ],
 "metadata": {
  "kernelspec": {
   "display_name": "lawboto",
   "language": "python",
   "name": "python3"
  },
  "language_info": {
   "codemirror_mode": {
    "name": "ipython",
    "version": 3
   },
   "file_extension": ".py",
   "mimetype": "text/x-python",
   "name": "python",
   "nbconvert_exporter": "python",
   "pygments_lexer": "ipython3",
   "version": "3.9.13 (main, Oct 13 2022, 21:23:06) [MSC v.1916 64 bit (AMD64)]"
  },
  "orig_nbformat": 4,
  "vscode": {
   "interpreter": {
    "hash": "cd46718e6bb4835b306234a061b0dbde8f47813339e2874b919b1a11634ac550"
   }
  }
 },
 "nbformat": 4,
 "nbformat_minor": 2
}
